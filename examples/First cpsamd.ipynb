{
 "cells": [
  {
   "cell_type": "code",
   "execution_count": 1,
   "metadata": {
    "collapsed": true
   },
   "outputs": [],
   "source": [
    "import board"
   ]
  },
  {
   "cell_type": "code",
   "execution_count": 2,
   "metadata": {
    "collapsed": true
   },
   "outputs": [],
   "source": [
    "import nativeio"
   ]
  },
  {
   "cell_type": "code",
   "execution_count": 3,
   "metadata": {
    "collapsed": true
   },
   "outputs": [],
   "source": [
    "3 - 2"
   ]
  },
  {
   "cell_type": "code",
   "execution_count": 4,
   "metadata": {
    "collapsed": false
   },
   "outputs": [
    {
     "name": "stdout",
     "output_type": "stream",
     "text": [
      "1\r\n"
     ]
    }
   ],
   "source": [
    "print(3-2)"
   ]
  },
  {
   "cell_type": "code",
   "execution_count": 5,
   "metadata": {
    "collapsed": false
   },
   "outputs": [
    {
     "name": "stdout",
     "output_type": "stream",
     "text": [
      "pypypypypypypypypypypypypypypypypypypypy\r\n"
     ]
    }
   ],
   "source": [
    "print('py'*20)"
   ]
  },
  {
   "cell_type": "code",
   "execution_count": 6,
   "metadata": {
    "collapsed": false
   },
   "outputs": [
    {
     "name": "stdout",
     "output_type": "stream",
     "text": [
      "object <module 'nativeio'> is of type module\r\n",
      "  __name__ -- nativeio\r\n",
      "  AnalogIn -- <class 'AnalogIn'>\r\n",
      "  AnalogOut -- <class 'AnalogOut'>\r\n",
      "  DigitalInOut -- <class 'DigitalInOut'>\r\n",
      "  I2C -- <class 'I2C'>\r\n",
      "  PulseOut -- <class 'PulseOut'>\r\n",
      "  PWMOut -- <class 'PWMOut'>\r\n",
      "  SPI -- <class 'SPI'>\r\n",
      "  TouchIn -- <class 'TouchIn'>\r\n",
      "  UART -- <class 'UART'>\r\n"
     ]
    }
   ],
   "source": [
    "help(nativeio)"
   ]
  },
  {
   "cell_type": "code",
   "execution_count": 7,
   "metadata": {
    "collapsed": false
   },
   "outputs": [
    {
     "name": "stdout",
     "output_type": "stream",
     "text": [
      "nativeio\r\n"
     ]
    }
   ],
   "source": [
    "print(nativeio.__name__)"
   ]
  },
  {
   "cell_type": "code",
   "execution_count": 8,
   "metadata": {
    "collapsed": true
   },
   "outputs": [],
   "source": [
    "import sys"
   ]
  },
  {
   "cell_type": "code",
   "execution_count": 9,
   "metadata": {
    "collapsed": true
   },
   "outputs": [],
   "source": [
    "sys.__name__"
   ]
  },
  {
   "cell_type": "code",
   "execution_count": 10,
   "metadata": {
    "collapsed": false
   },
   "outputs": [
    {
     "name": "stdout",
     "output_type": "stream",
     "text": [
      "sys\r\n"
     ]
    }
   ],
   "source": [
    "print(sys.__name__)"
   ]
  },
  {
   "cell_type": "code",
   "execution_count": 11,
   "metadata": {
    "collapsed": false
   },
   "outputs": [
    {
     "name": "stdout",
     "output_type": "stream",
     "text": [
      "(name='circuitpython', version=(0, 9, 1))\r\n"
     ]
    }
   ],
   "source": [
    "print(sys.implementation)"
   ]
  },
  {
   "cell_type": "code",
   "execution_count": 12,
   "metadata": {
    "collapsed": false
   },
   "outputs": [
    {
     "name": "stdout",
     "output_type": "stream",
     "text": [
      "Atmel SAMD21\r\n"
     ]
    }
   ],
   "source": [
    "print(sys.platform)"
   ]
  },
  {
   "cell_type": "code",
   "execution_count": 13,
   "metadata": {
    "collapsed": false
   },
   "outputs": [
    {
     "name": "stdout",
     "output_type": "stream",
     "text": [
      "(3, 4, 0)\r\n"
     ]
    }
   ],
   "source": [
    "print(sys.version_info)"
   ]
  },
  {
   "cell_type": "code",
   "execution_count": 14,
   "metadata": {
    "collapsed": true
   },
   "outputs": [],
   "source": [
    "dir(board)"
   ]
  },
  {
   "cell_type": "code",
   "execution_count": 15,
   "metadata": {
    "collapsed": false
   },
   "outputs": [
    {
     "name": "stdout",
     "output_type": "stream",
     "text": [
      "object <module ''> is of type module\r\n",
      "  A0 -- board.A0\r\n",
      "  A1 -- board.A1\r\n",
      "  A2 -- board.A2\r\n",
      "  A3 -- board.A3\r\n",
      "  A4 -- board.A4\r\n",
      "  A5 -- board.A5\r\n",
      "  SCK -- board.SCK\r\n",
      "  MOSI -- board.MOSI\r\n",
      "  MISO -- board.MISO\r\n",
      "  D0 -- board.D0\r\n",
      "  RX -- board.D0\r\n",
      "  D1 -- board.D1\r\n",
      "  TX -- board.D1\r\n",
      "  SDA -- board.SDA\r\n",
      "  SCL -- board.SCL\r\n",
      "  D5 -- board.D5\r\n",
      "  D6 -- board.D6\r\n",
      "  D9 -- board.D9\r\n",
      "  D10 -- board.D10\r\n",
      "  D11 -- board.D11\r\n",
      "  D12 -- board.D12\r\n",
      "  D13 -- board.D13\r\n"
     ]
    }
   ],
   "source": [
    "help(board)"
   ]
  },
  {
   "cell_type": "code",
   "execution_count": 16,
   "metadata": {
    "collapsed": false
   },
   "outputs": [
    {
     "name": "stdout",
     "output_type": "stream",
     "text": [
      "object <module 'nativeio'> is of type module\r\n",
      "  __name__ -- nativeio\r\n",
      "  AnalogIn -- <class 'AnalogIn'>\r\n",
      "  AnalogOut -- <class 'AnalogOut'>\r\n",
      "  DigitalInOut -- <class 'DigitalInOut'>\r\n",
      "  I2C -- <class 'I2C'>\r\n",
      "  PulseOut -- <class 'PulseOut'>\r\n",
      "  PWMOut -- <class 'PWMOut'>\r\n",
      "  SPI -- <class 'SPI'>\r\n",
      "  TouchIn -- <class 'TouchIn'>\r\n",
      "  UART -- <class 'UART'>\r\n"
     ]
    }
   ],
   "source": [
    "help(nativeio)"
   ]
  },
  {
   "cell_type": "code",
   "execution_count": 17,
   "metadata": {
    "collapsed": true
   },
   "outputs": [],
   "source": [
    "led = nativeio.DigitalInOut(board.D13)"
   ]
  },
  {
   "cell_type": "code",
   "execution_count": 18,
   "metadata": {
    "collapsed": true
   },
   "outputs": [],
   "source": [
    "led.switch_to_output()"
   ]
  },
  {
   "cell_type": "code",
   "execution_count": 20,
   "metadata": {
    "collapsed": false
   },
   "outputs": [],
   "source": [
    "led.value = False"
   ]
  },
  {
   "cell_type": "code",
   "execution_count": 21,
   "metadata": {
    "collapsed": false
   },
   "outputs": [
    {
     "name": "stdout",
     "output_type": "stream",
     "text": [
      "Hello world\r\n"
     ]
    }
   ],
   "source": [
    "print(\"Hello world\")"
   ]
  },
  {
   "cell_type": "code",
   "execution_count": 23,
   "metadata": {
    "collapsed": false
   },
   "outputs": [],
   "source": [
    "led.value = True"
   ]
  },
  {
   "cell_type": "code",
   "execution_count": 24,
   "metadata": {
    "collapsed": true
   },
   "outputs": [],
   "source": [
    "led.value = False"
   ]
  },
  {
   "cell_type": "code",
   "execution_count": null,
   "metadata": {
    "collapsed": true
   },
   "outputs": [],
   "source": []
  }
 ],
 "metadata": {
  "kernelspec": {
   "display_name": "cpsamd",
   "language": "python",
   "name": "cpsamd"
  },
  "language_info": {
   "codemirror_mode": {
    "name": "python",
    "version": 3
   },
   "file_extension": ".py",
   "mimetype": "text/x-python",
   "name": "python",
   "pygments_lexer": "python3",
   "version": "3"
  }
 },
 "nbformat": 4,
 "nbformat_minor": 2
}
